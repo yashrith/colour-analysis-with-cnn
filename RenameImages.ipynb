{
 "cells": [
  {
   "cell_type": "code",
   "execution_count": 3,
   "id": "8475fee2-013f-4299-ba14-b50879f2c755",
   "metadata": {},
   "outputs": [],
   "source": [
    "import os\n",
    "import cv2 as cv\n",
    "import matplotlib.pyplot as plt\n",
    "import numpy as np\n",
    "from PIL import Image\n",
    "import pickle"
   ]
  },
  {
   "cell_type": "code",
   "execution_count": 4,
   "id": "af1b1e5d-d35f-4be2-a9ef-825585825088",
   "metadata": {},
   "outputs": [
    {
     "name": "stdout",
     "output_type": "stream",
     "text": [
      "CPU times: total: 0 ns\n",
      "Wall time: 108 ms\n"
     ]
    }
   ],
   "source": [
    "%%time\n",
    "from torchvision import datasets, transforms\n",
    "from torch.utils.data import DataLoader, random_split\n",
    "\n",
    "# Define transformations\n",
    "transform = transforms.Compose([\n",
    "    transforms.Resize((128, 128)),  # Resize all images to 128x128\n",
    "    transforms.RandomHorizontalFlip(),  # Data augmentation\n",
    "    transforms.ToTensor(),  # Convert to tensor\n",
    "    transforms.Normalize(mean=[0.5, 0.5, 0.5], std=[0.5, 0.5, 0.5])  # Normalize\n",
    "])\n",
    "\n",
    "# Load dataset\n",
    "data_dir = \"cropped_faces\"\n",
    "dataset = datasets.ImageFolder(root=data_dir, transform=transform)\n",
    "\n",
    "# Split dataset into training and validation sets\n",
    "train_size = int(0.8 * len(dataset))\n",
    "val_size = len(dataset) - train_size\n",
    "train_dataset, val_dataset = random_split(dataset, [train_size, val_size])\n",
    "\n",
    "# Create DataLoaders\n",
    "train_loader = DataLoader(train_dataset, batch_size=32, shuffle=True)\n",
    "val_loader = DataLoader(val_dataset, batch_size=32, shuffle=False)"
   ]
  },
  {
   "cell_type": "markdown",
   "id": "4cd3ae63-1c0d-464e-aaac-f665843d37a0",
   "metadata": {},
   "source": [
    "### ResNet18\n",
    "\n",
    "Implementation of ResNet18 architecture."
   ]
  },
  {
   "cell_type": "code",
   "execution_count": 5,
   "id": "fbc17874-e29a-45bb-8dce-47f982c4f8ff",
   "metadata": {},
   "outputs": [
    {
     "name": "stdout",
     "output_type": "stream",
     "text": [
      "CPU times: total: 93.8 ms\n",
      "Wall time: 152 ms\n"
     ]
    }
   ],
   "source": [
    "%%time\n",
    "import torch\n",
    "import torch.nn as nn\n",
    "from torchvision.models import resnet18\n",
    "\n",
    "# Load ResNet18\n",
    "resnet_model = resnet18(pretrained=False)\n",
    "resnet_model.fc = nn.Linear(resnet_model.fc.in_features, len(dataset.classes))  # Adjust output layer\n",
    "\n",
    "# Define device\n",
    "device = torch.device('cuda' if torch.cuda.is_available() else 'cpu')\n",
    "resnet_model = resnet_model.to(device)"
   ]
  },
  {
   "cell_type": "code",
   "execution_count": 88,
   "id": "fff89c31-903a-4232-a08e-b523f6b5b9a2",
   "metadata": {},
   "outputs": [
    {
     "name": "stdout",
     "output_type": "stream",
     "text": [
      "CPU times: total: 0 ns\n",
      "Wall time: 0 ns\n"
     ]
    }
   ],
   "source": [
    "%%time\n",
    "\n",
    "def train_model(model, train_loader, criterion, optimizer, device):\n",
    "    model.train()  # Set model to training mode\n",
    "    total_loss = 0\n",
    "    correct = 0\n",
    "\n",
    "    for images, labels in train_loader:\n",
    "        images, labels = images.to(device), labels.to(device)\n",
    "        optimizer.zero_grad()  # Clear gradients\n",
    "        outputs = model(images)  # Forward pass\n",
    "        loss = criterion(outputs, labels)  # Compute loss\n",
    "        loss.backward()  # Backward pass\n",
    "        optimizer.step()  # Update weights\n",
    "\n",
    "        total_loss += loss.item()\n",
    "        _, preds = torch.max(outputs, 1)\n",
    "        correct += (preds == labels).sum().item()\n",
    "\n",
    "    accuracy = correct / len(train_loader.dataset)\n",
    "    return total_loss / len(train_loader), accuracy"
   ]
  },
  {
   "cell_type": "code",
   "execution_count": 89,
   "id": "f1733cbe-0970-46ca-b1ed-1e13335134f6",
   "metadata": {},
   "outputs": [
    {
     "name": "stdout",
     "output_type": "stream",
     "text": [
      "CPU times: total: 0 ns\n",
      "Wall time: 0 ns\n"
     ]
    }
   ],
   "source": [
    "%%time\n",
    "\n",
    "def evaluate_model(model, val_loader, criterion, device):\n",
    "    model.eval()  # Set model to evaluation mode\n",
    "    total_loss = 0\n",
    "    correct = 0\n",
    "\n",
    "    with torch.no_grad():  # Disable gradient computation\n",
    "        for images, labels in val_loader:\n",
    "            images, labels = images.to(device), labels.to(device)\n",
    "            outputs = model(images)\n",
    "            loss = criterion(outputs, labels)\n",
    "            total_loss += loss.item()\n",
    "            _, preds = torch.max(outputs, 1)\n",
    "            correct += (preds == labels).sum().item()\n",
    "\n",
    "    accuracy = correct / len(val_loader.dataset)\n",
    "    return total_loss / len(val_loader), accuracy"
   ]
  },
  {
   "cell_type": "code",
   "execution_count": 95,
   "id": "a5074bce-d6e8-4bf8-8454-594ba441d27c",
   "metadata": {},
   "outputs": [
    {
     "name": "stdout",
     "output_type": "stream",
     "text": [
      "Epoch 1/5, ResNet - Train Loss: 0.8079, Train Acc: 0.6125, Val Loss: 1.9877, Val Acc: 0.3810\n",
      "Epoch 2/5, ResNet - Train Loss: 0.8299, Train Acc: 0.6375, Val Loss: 1.7380, Val Acc: 0.5714\n",
      "Epoch 3/5, ResNet - Train Loss: 0.6263, Train Acc: 0.7125, Val Loss: 3.5849, Val Acc: 0.2857\n",
      "Epoch 4/5, ResNet - Train Loss: 0.6290, Train Acc: 0.7125, Val Loss: 1.5383, Val Acc: 0.5714\n",
      "Epoch 5/5, ResNet - Train Loss: 0.5481, Train Acc: 0.8375, Val Loss: 1.8631, Val Acc: 0.5714\n",
      "CPU times: total: 35.5 s\n",
      "Wall time: 13.4 s\n"
     ]
    }
   ],
   "source": [
    "%%time\n",
    "import torch.optim as optim\n",
    "\n",
    "train_acc_list = []\n",
    "val_acc_list = []\n",
    "train_loss_list = []\n",
    "val_loss_list = []\n",
    "# Hyperparameters\n",
    "num_epochs = 5\n",
    "learning_rate = 0.001\n",
    "criterion = nn.CrossEntropyLoss()\n",
    "\n",
    "# ResNet Training\n",
    "for epoch in range(num_epochs):\n",
    "    # Call your training and evaluation functions\n",
    "    train_loss, train_acc = train_model(resnet_model, train_loader, criterion, optimizer_resnet, device)\n",
    "    val_loss, val_acc = evaluate_model(resnet_model, val_loader, criterion, device)\n",
    "    \n",
    "    # Append values (not extend, since these are float values)\n",
    "    train_acc_list.append(train_acc)\n",
    "    train_loss_list.append(train_loss)\n",
    "    val_acc_list.append(val_acc)\n",
    "    val_loss_list.append(val_loss)\n",
    "    \n",
    "    # Print epoch metrics\n",
    "    print(f\"Epoch {epoch+1}/{num_epochs}, ResNet - Train Loss: {train_loss:.4f}, Train Acc: {train_acc:.4f}, Val Loss: {val_loss:.4f}, Val Acc: {val_acc:.4f}\")\n"
   ]
  },
  {
   "cell_type": "code",
   "execution_count": 97,
   "id": "aef00ff3-5507-4b23-83a8-044a682074d9",
   "metadata": {},
   "outputs": [],
   "source": [
    "torch.save(resnet_model.state_dict(), \"resnet_model.pth\")"
   ]
  },
  {
   "cell_type": "code",
   "execution_count": 100,
   "id": "3f061215-f3c6-491b-893a-78a011f5ede9",
   "metadata": {},
   "outputs": [
    {
     "data": {
      "image/png": "[encoded data removed]",
      "text/plain": [
       "<Figure size 800x600 with 1 Axes>"
      ]
     },
     "metadata": {},
     "output_type": "display_data"
    }
   ],
   "source": [
    "import matplotlib.pyplot as plt\n",
    "\n",
    "num_epochs = 5\n",
    "epochs = list(range(1, num_epochs + 1))\n",
    "\n",
    "\n",
    "# Plotting\n",
    "plt.figure(figsize=(8,6))\n",
    "\n",
    "# ResNet Accuracy\n",
    "plt.plot(epochs, train_acc_list, marker='o', label='train_acc_list', color='blue')\n",
    "plt.plot(epochs, val_acc_list, marker='s', label='val_acc_list', color='cyan')\n",
    "\n",
    "# VGG Accuracy\n",
    "plt.plot(epochs, train_loss_list, marker='o', label='train_loss_list', color='orange')\n",
    "plt.plot(epochs, val_loss_list, marker='s', label='val_loss_list', color='red')\n",
    "\n",
    "# Adding labels, title, and legend\n",
    "plt.title('Train and Validation Accuracy: ResNet vs. VGG', fontsize=14)\n",
    "plt.xlabel('Epochs', fontsize=12)\n",
    "plt.ylabel('Accuracy', fontsize=12)\n",
    "plt.xticks(epochs)\n",
    "plt.legend()\n",
    "plt.grid(True)\n",
    "\n",
    "# Show plot\n",
    "plt.show()\n"
   ]
  },
  {
   "cell_type": "markdown",
   "id": "5575e8e3-4cf3-4424-a2ff-7919313ba683",
   "metadata": {},
   "source": [
    "### Testing"
   ]
  },
  {
   "cell_type": "code",
   "execution_count": 6,
   "id": "2abb1a4d-50ad-4a68-9565-5c1cc18cca5c",
   "metadata": {},
   "outputs": [
    {
     "name": "stderr",
     "output_type": "stream",
     "text": [
      "C:\\Users\\lenovo\\AppData\\Local\\Temp\\ipykernel_13768\\1343380716.py:3: FutureWarning: You are using `torch.load` with `weights_only=False` (the current default value), which uses the default pickle module implicitly. It is possible to construct malicious pickle data which will execute arbitrary code during unpickling (See https://github.com/pytorch/pytorch/blob/main/SECURITY.md#untrusted-models for more details). In a future release, the default value for `weights_only` will be flipped to `True`. This limits the functions that could be executed during unpickling. Arbitrary objects will no longer be allowed to be loaded via this mode unless they are explicitly allowlisted by the user via `torch.serialization.add_safe_globals`. We recommend you start setting `weights_only=True` for any use case where you don't have full control of the loaded file. Please open an issue on GitHub for any issues related to this experimental feature.\n",
      "  model.load_state_dict(torch.load(\"resnet_model.pth\"))\n"
     ]
    },
    {
     "name": "stdout",
     "output_type": "stream",
     "text": [
      "The predicted type of the image is: Light\n"
     ]
    }
   ],
   "source": [
    "model = resnet18(pretrained=False)\n",
    "model.fc = nn.Linear(model.fc.in_features, 3)  # 3 classes: Dark, Light, Medium\n",
    "model.load_state_dict(torch.load(\"resnet_model.pth\"))\n",
    "model.eval()\n",
    "\n",
    "# Define the same transformations used during training\n",
    "transform = transforms.Compose([\n",
    "    transforms.Resize((224, 224)),\n",
    "    transforms.ToTensor(),\n",
    "    transforms.Normalize([0.485, 0.456, 0.406], [0.229, 0.224, 0.225])\n",
    "])\n",
    "\n",
    "# Load and preprocess the sample image\n",
    "sample_image_path = \"download.jpg\"  # Replace with your sample image path\n",
    "image = Image.open(sample_image_path).convert('RGB')\n",
    "image_tensor = transform(image).unsqueeze(0)\n",
    "\n",
    "# Predict the type\n",
    "with torch.no_grad():\n",
    "    outputs = model(image_tensor)\n",
    "    _, predicted = torch.max(outputs, 1)\n",
    "    class_names = ['Dark', 'Light', 'Medium']  # Must match folder names\n",
    "    predicted_class = class_names[predicted.item()]\n",
    "\n",
    "print(f\"The predicted type of the image is: {predicted_class}\")"
   ]
  },
  {
   "cell_type": "code",
   "execution_count": 8,
   "id": "f89c49a5-b35d-400d-b4d7-ec23f1422a11",
   "metadata": {},
   "outputs": [
    {
     "data": {
      "text/plain": [
       "1"
      ]
     },
     "execution_count": 8,
     "metadata": {},
     "output_type": "execute_result"
    }
   ],
   "source": []
  }
 ],
 "metadata": {
  "kernelspec": {
   "display_name": "Python 3 (ipykernel)",
   "language": "python",
   "name": "python3"
  },
  "language_info": {
   "codemirror_mode": {
    "name": "ipython",
    "version": 3
   },
   "file_extension": ".py",
   "mimetype": "text/x-python",
   "name": "python",
   "nbconvert_exporter": "python",
   "pygments_lexer": "ipython3",
   "version": "3.12.4"
  }
 },
 "nbformat": 4,
 "nbformat_minor": 5
}
